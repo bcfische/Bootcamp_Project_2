{
 "cells": [
  {
   "cell_type": "code",
   "execution_count": 56,
   "metadata": {},
   "outputs": [],
   "source": [
    "# Dependencies\n",
    "import pandas as pd"
   ]
  },
  {
   "cell_type": "code",
   "execution_count": 57,
   "metadata": {},
   "outputs": [],
   "source": [
    "# Store filepath in a variable\n",
    "file_one = \"Resources/avenger_update.csv\""
   ]
  },
  {
   "cell_type": "code",
   "execution_count": 70,
   "metadata": {},
   "outputs": [
    {
     "data": {
      "text/html": [
       "<div>\n",
       "<style scoped>\n",
       "    .dataframe tbody tr th:only-of-type {\n",
       "        vertical-align: middle;\n",
       "    }\n",
       "\n",
       "    .dataframe tbody tr th {\n",
       "        vertical-align: top;\n",
       "    }\n",
       "\n",
       "    .dataframe thead th {\n",
       "        text-align: right;\n",
       "    }\n",
       "</style>\n",
       "<table border=\"1\" class=\"dataframe\">\n",
       "  <thead>\n",
       "    <tr style=\"text-align: right;\">\n",
       "      <th></th>\n",
       "      <th>Tony Stark / Iron Man /35:30</th>\n",
       "    </tr>\n",
       "  </thead>\n",
       "  <tbody>\n",
       "    <tr>\n",
       "      <th>0</th>\n",
       "      <td>Steve Rogers / Captain America /35:30</td>\n",
       "    </tr>\n",
       "    <tr>\n",
       "      <th>1</th>\n",
       "      <td>Dr. Bruce Banner / The Hulk /20:45</td>\n",
       "    </tr>\n",
       "    <tr>\n",
       "      <th>2</th>\n",
       "      <td>Thor /20:30</td>\n",
       "    </tr>\n",
       "    <tr>\n",
       "      <th>3</th>\n",
       "      <td>Clint Barton / Ronin /19:30</td>\n",
       "    </tr>\n",
       "    <tr>\n",
       "      <th>4</th>\n",
       "      <td>Natasha Romanoff / Black Widow /18:15</td>\n",
       "    </tr>\n",
       "  </tbody>\n",
       "</table>\n",
       "</div>"
      ],
      "text/plain": [
       "            Tony Stark / Iron Man /35:30\n",
       "0  Steve Rogers / Captain America /35:30\n",
       "1     Dr. Bruce Banner / The Hulk /20:45\n",
       "2                            Thor /20:30\n",
       "3            Clint Barton / Ronin /19:30\n",
       "4  Natasha Romanoff / Black Widow /18:15"
      ]
     },
     "execution_count": 70,
     "metadata": {},
     "output_type": "execute_result"
    }
   ],
   "source": [
    "file_one_df = pd.read_csv(file_one, encoding=\"ISO-8859-1\")\n",
    "file_one_df.head()"
   ]
  },
  {
   "cell_type": "code",
   "execution_count": 27,
   "metadata": {},
   "outputs": [
    {
     "data": {
      "text/plain": [
       "Tony Stark / Iron Man /35:30    object\n",
       "dtype: object"
      ]
     },
     "execution_count": 27,
     "metadata": {},
     "output_type": "execute_result"
    }
   ],
   "source": [
    "df.dropna(inplace = True) \n",
    "df.dtypes"
   ]
  },
  {
   "cell_type": "code",
   "execution_count": 71,
   "metadata": {},
   "outputs": [],
   "source": [
    "df['Tony Stark / Iron Man /35:30'] = df['Tony Stark / Iron Man /35:30'].astype('|S80')"
   ]
  },
  {
   "cell_type": "code",
   "execution_count": null,
   "metadata": {},
   "outputs": [],
   "source": []
  },
  {
   "cell_type": "code",
   "execution_count": 73,
   "metadata": {},
   "outputs": [
    {
     "name": "stdout",
     "output_type": "stream",
     "text": [
      "                         Tony Stark / Iron Man /35:30\n",
      "0            b'Steve Rogers / Captain America /35:30'\n",
      "1               b'Dr. Bruce Banner / The Hulk /20:45'\n",
      "2                                      b'Thor /20:30'\n",
      "3                      b'Clint Barton / Ronin /19:30'\n",
      "4            b'Natasha Romanoff / Black Widow /18:15'\n",
      "5                                       b'Nebula /16'\n",
      "6                      b'Scott Lang / Ant-Man /14:45'\n",
      "7                                    b'Thanos /13:45'\n",
      "8    b'\"James \"\"Rhodey\"\" Rhodes / War Machine /8:30\"'\n",
      "9                                        b'Rocket /8'\n",
      "10            b'Carol Danvers / Captain Marvel /5:45'\n",
      "11                                       b'Gamora /5'\n",
      "12                       b'Sam Wilson / Falcon /4:30'\n",
      "13                     b'Pepper Potts / Rescue /4:30'\n",
      "14                              b'Morgan Stark /3:30'\n",
      "15                           b'The Ancient One /3:30'\n",
      "16                                    b'Frigga /3:30'\n",
      "17                              b'Howard Stark /3:15'\n",
      "18                 b'Peter Parker / Spider-Man /3:15'\n",
      "19                      b'Peter Quill / Star-Lord /3'\n",
      "20                                  b'Valkyrie /2:30'\n",
      "21            b'Wanda Maximoff / Scarlet Witch /2:15'\n",
      "22     b'\"James \"\"Bucky\"\" Barnes / White Wolf /2:15\"'\n",
      "23                                        b'Okoye /2'\n",
      "24             b\"King T'Challa / Black Panther /1:45\"\n",
      "25                   b'Hope van Dyne / The Wasp/1:30'\n",
      "26                                 b'Ebony Maw /1:30'\n",
      "27                                    b'Mantis /1:15'\n",
      "28                                  b'Groot II /1:15'\n",
      "29                            b'Princess Shuri /1:15'\n",
      "..                                                ...\n",
      "348                                        b'Drax /1'\n",
      "349                    b'\"Harold \"\"Happy\"\" Hogan /1\"'\n",
      "350                                        b'Loki /1'\n",
      "351                        b'Agent Jasper Sitwell /1'\n",
      "352                          b'Agent Brock Rumlow /1'\n",
      "353                                     b'Akihiko /1'\n",
      "354                                        b'Korg /1'\n",
      "355                                      b'Miek /:45'\n",
      "356                                      b'Wong /:45'\n",
      "357                           b'The Stonekeeper /:45'\n",
      "358                               b'Cassie Lang /:45'\n",
      "359                              b'Laura Barton /:45'\n",
      "360                             b'Cooper Barton /:45'\n",
      "361                          b'Nathaniel Barton /:45'\n",
      "362                             b'Corvus Glaive /:45'\n",
      "363                              b'Dr. Hank Pym /:30'\n",
      "364                          b'Alexander Pierce /:30'\n",
      "365                          b'Proxima Midnight /:30'\n",
      "366                             b'Cull Obsidian /:30'\n",
      "367                            b'Janet van Dyne /:15'\n",
      "368                              b'Edwin Jarvis /:15'\n",
      "369                           b'Dr. Jane Foster /:15'\n",
      "370                                 b'Ned Leeds /:15'\n",
      "371                                b'May Parker /:15'\n",
      "372                   b'Secretary Thaddeus Ross /:15'\n",
      "373                             b'Queen Ramonda /:15'\n",
      "374                                    b\"M'Baku /:15\"\n",
      "375                             b'Harley Keener /:15'\n",
      "376                                b'Maria Hill /:15'\n",
      "377                           b'Nick Fury /:15</div>'\n",
      "\n",
      "[378 rows x 1 columns]\n"
     ]
    }
   ],
   "source": [
    "df.to_csv('new_file.csv', sep='\\t', index=False)\n",
    "new_df = pd.read_csv('new_file.csv')\n",
    "print(new_df)"
   ]
  },
  {
   "cell_type": "code",
   "execution_count": null,
   "metadata": {},
   "outputs": [],
   "source": []
  }
 ],
 "metadata": {
  "kernelspec": {
   "display_name": "Python 3",
   "language": "python",
   "name": "python3"
  },
  "language_info": {
   "codemirror_mode": {
    "name": "ipython",
    "version": 3
   },
   "file_extension": ".py",
   "mimetype": "text/x-python",
   "name": "python",
   "nbconvert_exporter": "python",
   "pygments_lexer": "ipython3",
   "version": "3.7.1"
  }
 },
 "nbformat": 4,
 "nbformat_minor": 2
}
