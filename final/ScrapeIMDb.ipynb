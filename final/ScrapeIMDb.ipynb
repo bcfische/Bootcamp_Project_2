{
 "cells": [
  {
   "cell_type": "code",
   "execution_count": 1,
   "metadata": {},
   "outputs": [],
   "source": [
    "from bs4 import BeautifulSoup\n",
    "import requests\n",
    "import csv"
   ]
  },
  {
   "cell_type": "code",
   "execution_count": 2,
   "metadata": {},
   "outputs": [],
   "source": [
    "response = requests.get('https://www.imdb.com/list/ls066620113/?ref_=otl_3')"
   ]
  },
  {
   "cell_type": "code",
   "execution_count": 3,
   "metadata": {},
   "outputs": [],
   "source": [
    "soup = BeautifulSoup(response.text, 'lxml')"
   ]
  },
  {
   "cell_type": "code",
   "execution_count": 4,
   "metadata": {},
   "outputs": [],
   "source": [
    "results = soup.find_all('div', class_='list-description')\n",
    "#results"
   ]
  },
  {
   "cell_type": "code",
   "execution_count": 5,
   "metadata": {},
   "outputs": [],
   "source": [
    "def get_sec(string_ms):\n",
    "    s = string_ms\n",
    "    if s.find(':')==-1:\n",
    "        s = s+':00'\n",
    "    if s[0]==':':\n",
    "        s = '0'+s\n",
    "    ss = s.split(':')\n",
    "    #print(ss)\n",
    "    return 60*int(ss[0])+int(ss[1])"
   ]
  },
  {
   "cell_type": "code",
   "execution_count": 4,
   "metadata": {},
   "outputs": [
    {
     "name": "stdout",
     "output_type": "stream",
     "text": [
      "60\n"
     ]
    }
   ],
   "source": [
    "#print(get_sec('1'))"
   ]
  },
  {
   "cell_type": "code",
   "execution_count": 6,
   "metadata": {},
   "outputs": [],
   "source": [
    "csvData = []\n",
    "#csvData.append(['name','alias_1','alias_2','movie_id','screen_time'])\n",
    "csvData.append(['id','name','alias','movie_id','screen_time'])\n",
    "id = 1\n",
    "for i in range(1, len(results)):\n",
    "    for result in results[i].find('p').text.split('\\n'):\n",
    "        characters = result.replace('/',',').replace('<',',#').replace('\"',\"'\").strip('>').split(',')\n",
    "        list = []\n",
    "        list.append(id)\n",
    "        id = id+1\n",
    "        list.append(characters[0].strip())\n",
    "        index = 1\n",
    "        if characters[1].startswith('#'):\n",
    "            list.append('')\n",
    "            #list.append('')\n",
    "            list.append(i)\n",
    "            #list.append(characters[1].strip('#'))\n",
    "            #list.append(get_sec(characters[1]))\n",
    "        elif characters[2].startswith('#'):\n",
    "            list.append(characters[1].strip())\n",
    "            #list.append('')\n",
    "            list.append(i)\n",
    "            index = 2\n",
    "            #list.append(characters[2].strip('#'))\n",
    "            #list.append(get_sec(characters[2]))\n",
    "        elif characters[3].startswith('#'):\n",
    "            #list.append(characters[1].strip())\n",
    "            list.append(characters[2].strip())\n",
    "            list.append(i)\n",
    "            index = 3\n",
    "            #list.append(characters[3].strip('#'))\n",
    "            #list.append(get_sec(characters[3]))\n",
    "        else:\n",
    "            print(\"Error!\")\n",
    "        t = characters[index].strip('#')\n",
    "        if (t != 'v' and t != 'x'):\n",
    "            list.append(get_sec(t))\n",
    "            csvData.append(list)\n",
    "#print(csvData)"
   ]
  },
  {
   "cell_type": "code",
   "execution_count": 7,
   "metadata": {},
   "outputs": [],
   "source": [
    "with open('characters.csv', 'w', newline='') as csvFile:\n",
    "    writer = csv.writer(csvFile)\n",
    "    writer.writerows(csvData)\n",
    "csvFile.close()"
   ]
  },
  {
   "cell_type": "code",
   "execution_count": null,
   "metadata": {},
   "outputs": [],
   "source": []
  }
 ],
 "metadata": {
  "kernelspec": {
   "display_name": "Python [conda env:PythonData]",
   "language": "python",
   "name": "conda-env-PythonData-py"
  },
  "language_info": {
   "codemirror_mode": {
    "name": "ipython",
    "version": 3
   },
   "file_extension": ".py",
   "mimetype": "text/x-python",
   "name": "python",
   "nbconvert_exporter": "python",
   "pygments_lexer": "ipython3",
   "version": "3.6.7"
  }
 },
 "nbformat": 4,
 "nbformat_minor": 2
}
